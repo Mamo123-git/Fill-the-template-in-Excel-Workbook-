#!/usr/bin/env python
# coding: utf-8

# In[2]:


#import sys
#import FC_Template_Automation.ipynb


try:
    from Tkinter import *
except ImportError:
    from tkinter import *
 
try:
    import ttk
    py3 = False
except ImportError:
    import tkinter.ttk as ttk
    py3 = True
    
import os, fnmatch
from tkinter import *
from tkinter import filedialog
from FC_Template_Automation import printT
import ctypes  # An included library with Python install.\
#import pickle


class New_Template(printT):
    
    def __init__(self):         
        ### intializing local variable
        self.pathfolder=''
        self.Hrcube_list=[]
       # self.Division=''
        self.Templatefolder=''
        self.outputfolder=''
        self.template_list=[]
        self.filename='Z:\\Central COO\\2021\\CTB BOW\\FC Template Creation\\Business Name\\List of Business Name.xlsx'
          
       
        root = Tk()
        '''This class configures and populates the toplevel window.
           top is the toplevel containing window.'''
        _bgcolor = '#d9d9d9'  # X11 color: 'gray85'
        _fgcolor = '#000000'  # X11 color: 'black'
        _compcolor = '#ffffff' # X11 color: 'white'
        _ana1color = '#ffffff' # X11 color: 'white'
        _ana2color = '#ffffff' # X11 color: 'white'
        font11 = "-family {Segoe UI} -size 17 -weight bold -slant "              "roman -underline 0 -overstrike 0"
        font14 = "-family {Times New Roman} -size 16 -weight bold "                  "-slant roman -underline 0 -overstrike 0"
        font8 = "-family {Segoe UI} -size 10 -weight normal -slant "              "roman -underline 0 -overstrike 0"
        font7 = "-family {Segoe UI} -size 8 -weight normal -slant "              "roman -underline 0 -overstrike 0"
        
        root.geometry("780x541+504+123")
        #root.geometry("500x341+304+23")
        root.title("FC Template")
        root.configure(background="#ffffff")
        root.configure(highlightbackground="#ffffff")
        root.configure(highlightcolor="black")


        self.Labelframe1 = LabelFrame(root)
        self.Labelframe1.place(relx=0.01, rely=0.04, relheight=0.95
                , relwidth=0.97)
        self.Labelframe1.configure(relief=GROOVE)
        self.Labelframe1.configure(font=font11)
        self.Labelframe1.configure(foreground="black")
        self.Labelframe1.configure(text='''New Template''')
        self.Labelframe1.configure(background="#ffffff")
        self.Labelframe1.configure(highlightbackground="#ffffff")
        self.Labelframe1.configure(highlightcolor="black")
        self.Labelframe1.configure(width=760)

        self.Frame1 = Frame(self.Labelframe1)
       # self.Frame1.place(relx=0.03, rely=0.1, relheight=0.86, relwidth=0.47
       #         , y=-31, h=15)
        self.Frame1.place(relx=0.01, rely=0.01, relheight=0.95, relwidth=0.97)
        self.Frame1.configure(relief=GROOVE)
        self.Frame1.configure(borderwidth="2")
        self.Frame1.configure(relief=GROOVE)
        self.Frame1.configure(background="#d9d9d9")
        self.Frame1.configure(highlightbackground="#ffffff")
        self.Frame1.configure(highlightcolor="black")
        self.Frame1.configure(width=355)      
        
        self.Label1 = Label(self.Frame1)
        self.Label1.place(relx=0.01, rely=0.10, height=40, width=250)
        self.Label1.configure(activebackground="#ffffff")
        self.Label1.configure(activeforeground="black")
        self.Label1.configure(background="#d9d9d9")
        self.Label1.configure(disabledforeground="#a3a3a3")
        self.Label1.configure(font=font8)
        self.Label1.configure(foreground="#000000")
        self.Label1.configure(highlightbackground="#ffffff")
        self.Label1.configure(highlightcolor="black")
        self.Label1.configure(text='''Path To template folder''')
        
        self.button1 = Button(self.Frame1)
        self.button1.place(relx=0.30, rely=0.12, height=25, width=80)
        self.button1.configure(activebackground="#ffffff")
        self.button1.configure(activeforeground="black")
        self.button1.configure(background="#d9d9d9")
        self.button1.configure(disabledforeground="#a3a3a3")
        self.button1.configure(font=font7)
        self.button1.configure(foreground="#000000")
        self.button1.configure(highlightbackground="#ffffff")
        self.button1.configure(highlightcolor="black")
        self.button1.configure(text='''...Browse''')
        self.button1.configure(command=self.check_Templatefile) 
        
        self.Text1 = Text(self.Frame1)
        self.Text1.place(relx=0.43, rely=0.11, relheight=0.1, relwidth=0.45)
        self.Text1.configure(background="white")
        self.Text1.configure(font=font8)
        self.Text1.configure(foreground="#000000")
        self.Text1.configure(highlightbackground="#d9d9d9")
        self.Text1.configure(highlightcolor="black")
        self.Text1.configure(insertbackground="black")
        self.Text1.configure(selectbackground="#c4c4c4")
        self.Text1.configure(selectforeground="black")
        self.Text1.configure(width=314)
        self.Text1.configure(wrap=WORD)
        
        self.Label2 = Label(self.Frame1)
        self.Label2.place(relx=0.01, rely=.24, height=40, width=250)
        self.Label2.configure(activebackground="#ffffff")
        self.Label2.configure(activeforeground="black")
        self.Label2.configure(background="#d9d9d9")
        self.Label2.configure(disabledforeground="#a3a3a3")
        self.Label2.configure(font=font8)
        self.Label2.configure(foreground="#000000")
        self.Label2.configure(highlightbackground="#ffffff")
        self.Label2.configure(highlightcolor="black")
        self.Label2.configure(text='''Path to Hr Cube Data Folder      ''')
        
        self.button2 = Button(self.Frame1)
        self.button2.place(relx=0.30, rely=.26, height=25, width=80)
        self.button2.configure(activebackground="#ffffff")
        self.button2.configure(activeforeground="black")
        self.button2.configure(background="#d9d9d9")
        self.button2.configure(disabledforeground="#a3a3a3")
        self.button2.configure(font=font7)
        self.button2.configure(foreground="#000000")
        self.button2.configure(highlightbackground="#ffffff")
        self.button2.configure(highlightcolor="black")
        self.button2.configure(text='''Browse''')
        self.button2.configure(command=self.click_files)  
        
        self.Text2 = Text(self.Frame1)
        self.Text2.place(relx=0.43, rely=0.25, relheight=0.1, relwidth=0.45)
        self.Text2.configure(background="white")
        self.Text2.configure(font=font8)
        self.Text2.configure(foreground="black")
        self.Text2.configure(highlightbackground="#d9d9d9")
        self.Text2.configure(highlightcolor="black")
        self.Text2.configure(insertbackground="black")
        self.Text2.configure(selectbackground="#c4c4c4")
        self.Text2.configure(selectforeground="black")
        self.Text2.configure(width=314)
        self.Text2.configure(wrap=WORD)

        self.Label3 = Label(self.Frame1)
        self.Label3.place(relx=0.01, rely=0.38, height=40, width=250)
        self.Label3.configure(activebackground="#ffffff")
        self.Label3.configure(activeforeground="black")
        self.Label3.configure(background="#d9d9d9")
        self.Label3.configure(disabledforeground="#a3a3a3")
        self.Label3.configure(font=font8)
        self.Label3.configure(foreground="#000000")
        self.Label3.configure(highlightbackground="#ffffff")
        self.Label3.configure(highlightcolor="black")
        self.Label3.configure(text='''Path to Business name file''')
        
        self.button3 = Button(self.Frame1)
        self.button3.place(relx=0.30, rely=.40, height=25, width=80)
        self.button3.configure(activebackground="#ffffff")
        self.button3.configure(activeforeground="black")
        self.button3.configure(background="#d9d9d9")
        self.button3.configure(disabledforeground="#a3a3a3")
        self.button3.configure(font=font7)
        self.button3.configure(foreground="#000000")
        self.button3.configure(highlightbackground="#ffffff")
        self.button3.configure(highlightcolor="black")
        self.button3.configure(text='''Browse''')
        self.button3.configure(command=self.businessfilename) 
        
        self.Text3 = Text(self.Frame1)
        self.Text3.place(relx=0.43, rely=0.39, relheight=0.1, relwidth=0.45)
        self.Text3.configure(background="white")
        self.Text3.configure(font=font8)
        self.Text3.configure(foreground="black")
        self.Text3.configure(highlightbackground="#d9d9d9")
        self.Text3.configure(highlightcolor="black")
        self.Text3.configure(insertbackground="black")
        self.Text3.configure(selectbackground="#c4c4c4")
        self.Text3.configure(selectforeground="black")
        self.Text3.configure(width=314)
        self.Text3.configure(wrap=WORD)
       
        self.Label4 = Label(self.Frame1)
        self.Label4.place(relx=0.01, rely=.52, height=40, width=250)
        self.Label4.configure(activebackground="#ffffff")
        self.Label4.configure(activeforeground="black")
        self.Label4.configure(background="#d9d9d9")
        self.Label4.configure(disabledforeground="#a3a3a3")
        self.Label4.configure(font=font8)
        self.Label4.configure(foreground="#000000")
        self.Label4.configure(highlightbackground="#ffffff")
        self.Label4.configure(highlightcolor="black")
        self.Label4.configure(text='''Path to Output Folder      ''')
        
        self.button4 = Button(self.Frame1)
        self.button4.place(relx=0.30, rely=.54, height=25, width=80)
        self.button4.configure(activebackground="#ffffff")
        self.button4.configure(activeforeground="black")
        self.button4.configure(background="#d9d9d9")
        self.button4.configure(disabledforeground="#a3a3a3")
        self.button4.configure(font=font7)
        self.button4.configure(foreground="#000000")
        self.button4.configure(highlightbackground="#ffffff")
        self.button4.configure(highlightcolor="black")
        self.button4.configure(text='''Browse''')
        self.button4.configure(command=self.outputFolder) 
        
        self.Text4 = Text(self.Frame1)
        self.Text4.place(relx=0.43, rely=0.53, relheight=0.1, relwidth=0.45)
        self.Text4.configure(background="white")
        self.Text4.configure(font=font8)
        self.Text4.configure(foreground="black")
        self.Text4.configure(highlightbackground="#d9d9d9")
        self.Text4.configure(highlightcolor="black")
        self.Text4.configure(insertbackground="black")
        self.Text4.configure(selectbackground="#c4c4c4")
        self.Text4.configure(selectforeground="black")
        self.Text4.configure(width=314)
        self.Text4.configure(wrap=WORD)
        
        self.button5 = Button(self.Frame1)
        self.button5.place(relx=0.78, rely=.75, height=30, width=80)
        self.button5.configure(activebackground="#ffffff")
        self.button5.configure(activeforeground="black")
        self.button5.configure(background="#d9d9d9")
        self.button5.configure(disabledforeground="#a3a3a3")
        self.button5.configure(font=font7)
        self.button5.configure(foreground="#000000")
        self.button5.configure(highlightbackground="#ffffff")
        self.button5.configure(highlightcolor="black")
        self.button5.configure(text='''Submit''')
        self.button5.configure(command=self.submit) 
        root.mainloop()
        
    def click_files(self):
        
        self.pathfolder=[]
        self.pathfolder =  filedialog.askdirectory()            
            #print(pathfolder)
        for path, dirs, files in os.walk(os.path.abspath(self.pathfolder)):
           for filename in fnmatch.filter(files, "*.xlsx"):
                   # print (filename)
                self.Text2.insert(INSERT,filename +"\n")
                self.Hrcube_list.append(self.pathfolder +'/'+ filename)
                  
    def check_Templatefile(self):
        self.Templatefolder=[]
        self.Templatefolder =  filedialog.askdirectory()
        
        for path, dirs, files in os.walk(os.path.abspath(self.Templatefolder)):
           for filename in fnmatch.filter(files, "*.xlsx"):
                   # print (filename)
                  self.Text1.insert(INSERT,filename +"\n")
                  self.template_list.append(self.Templatefolder +'/'+ filename)                   
             
    def businessfilename(self):
        self.filename=''
        #self.businessfilename = filedialog.askdirectory()
        self.filename =filedialog.askopenfilename()
        self.Text3.insert(INSERT,self.filename +"\n")        
        
        
    def outputFolder(self):
        #print('HI')
        self.outputfolder =  filedialog.askdirectory()             
        self.Text4.insert(INSERT,self.outputfolder +"\n")
    
    def submit(self):         
        super().print_templates(self.pathfolder,self.Hrcube_list,self.template_list,self.filename,self.Templatefolder,self.outputfolder)
        ctypes.windll.user32.MessageBoxW(0, "All FC Template Filled", "FC Template", 1)
        
def main():
    New_Template()    


if __name__ == '__main__':   
    New_Template()


# In[ ]:





# In[ ]:




