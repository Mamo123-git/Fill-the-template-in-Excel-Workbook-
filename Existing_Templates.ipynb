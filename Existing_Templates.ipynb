#!/usr/bin/env python
# coding: utf-8

# In[2]:


import os, fnmatch
from tkinter import filedialog
from FC_Template_Automation import printT
#import pickle

#import sys
#import FC_Template_Automation.ipynb


try:
    from Tkinter import *
except ImportError:
    from tkinter import *
    

#from tkinter import folderdialog


try:
    import ttk
    py3 = False
except ImportError:
    import tkinter.ttk as ttk
    py3 = True
    

class Existing_Template(printT):
    def __init__(self): 
        
        ##### intializing local variable
        self.pathfolder=''
        self.Hrcube_list=[]
        self.Division=''
        self.Templatefile=''
        
        root = Tk()
        '''This class configures and populates the toplevel window.
           top is the toplevel containing window.'''
        #_bgcolor = '#d9d9d9'  # X11 color: 'gray85'
        #_fgcolor = '#000000'  # X11 color: 'black'
        #_compcolor = '#ffffff' # X11 color: 'white'
        #_ana1color = '#ffffff' # X11 color: 'white'
       # _ana2color = '#ffffff' # X11 color: 'white'
        font11 = "-family {Segoe UI} -size 17 -weight bold -slant "              "roman -underline 0 -overstrike 0"
        #font14 = "-family {Times New Roman} -size 16 -weight bold "                  "-slant roman -underline 0 -overstrike 0"
        font8 = "-family {Segoe UI} -size 10 -weight normal -slant "              "roman -underline 0 -overstrike 0"
        font7 = "-family {Segoe UI} -size 8 -weight normal -slant "              "roman -underline 0 -overstrike 0"
        
        root.geometry("780x541+504+123")
        #root.geometry("500x341+304+23")
        root.title("FC Template")
        root.configure(background="#ffffff")
        root.configure(highlightbackground="#ffffff")
        root.configure(highlightcolor="black")


        self.Labelframe1 = LabelFrame(root)
        self.Labelframe1.place(relx=0.01, rely=0.04, relheight=0.95, relwidth=0.97)
        self.Labelframe1.configure(relief=GROOVE)
        self.Labelframe1.configure(font=font11)
        self.Labelframe1.configure(foreground="black")
        self.Labelframe1.configure(text='''Existing Template''')
        self.Labelframe1.configure(background="#ffffff")
        self.Labelframe1.configure(highlightbackground="#ffffff")
        self.Labelframe1.configure(highlightcolor="black")
        self.Labelframe1.configure(width=760)

        self.Frame1 = Frame(self.Labelframe1)
       # self.Frame1.place(relx=0.03, rely=0.1, relheight=0.86, relwidth=0.47
       #         , y=-31, h=15)
        self.Frame1.place(relx=0.01, rely=0.01, relheight=0.95, relwidth=0.97)
        self.Frame1.configure(relief=GROOVE)
        self.Frame1.configure(borderwidth="2")
        self.Frame1.configure(relief=GROOVE)
        self.Frame1.configure(background="#d9d9d9")
        self.Frame1.configure(highlightbackground="#ffffff")
        self.Frame1.configure(highlightcolor="black")
        self.Frame1.configure(width=355)      
        
        self.Label4 = Label(self.Frame1)
        self.Label4.place(relx=0.001, rely=0.10, height=40, width=250)
        self.Label4.configure(activebackground="#ffffff")
        self.Label4.configure(activeforeground="black")
        self.Label4.configure(background="#d9d9d9")
        self.Label4.configure(disabledforeground="#a3a3a3")
        self.Label4.configure(font=font8)
        self.Label4.configure(foreground="#000000")
        self.Label4.configure(highlightbackground="#ffffff")
        self.Label4.configure(highlightcolor="black")
        self.Label4.configure(text='''Path To Template to be filled''')
        
        self.button1 = Button(self.Frame1)
        self.button1.place(relx=0.30, rely=0.12, height=25, width=80)
        self.button1.configure(activebackground="#ffffff")
        self.button1.configure(activeforeground="black")
        self.button1.configure(background="#d9d9d9")
        self.button1.configure(disabledforeground="#a3a3a3")
        self.button1.configure(font=font7)
        self.button1.configure(foreground="#000000")
        self.button1.configure(highlightbackground="#ffffff")
        self.button1.configure(highlightcolor="black")
        self.button1.configure(text='''...Browse''')
        self.button1.configure(command=self.check_Templatefile) 
        
        self.Text1 = Text(self.Frame1)
        self.Text1.place(relx=0.43, rely=0.11, relheight=0.1, relwidth=0.45)
        self.Text1.configure(background="white")
        self.Text1.configure(font=font8)
        self.Text1.configure(foreground="#000000")
        self.Text1.configure(highlightbackground="#d9d9d9")
        self.Text1.configure(highlightcolor="black")
        self.Text1.configure(insertbackground="black")
        self.Text1.configure(selectbackground="#c4c4c4")
        self.Text1.configure(selectforeground="black")
        self.Text1.configure(width=314)
        self.Text1.configure(wrap=WORD)
        
        self.Label3 = Label(self.Frame1)
        self.Label3.place(relx=0.01, rely=.32, height=40, width=250)
        self.Label3.configure(activebackground="#ffffff")
        self.Label3.configure(activeforeground="black")
        self.Label3.configure(background="#d9d9d9")
        self.Label3.configure(disabledforeground="#a3a3a3")
        self.Label3.configure(font=font8)
        self.Label3.configure(foreground="#000000")
        self.Label3.configure(highlightbackground="#ffffff")
        self.Label3.configure(highlightcolor="black")
        self.Label3.configure(text='''Path to Hr Cube Data Folder      ''')
        
        self.button2 = Button(self.Frame1)
        self.button2.place(relx=0.30, rely=.34, height=25, width=80)
        self.button2.configure(activebackground="#ffffff")
        self.button2.configure(activeforeground="black")
        self.button2.configure(background="#d9d9d9")
        self.button2.configure(disabledforeground="#a3a3a3")
        self.button2.configure(font=font7)
        self.button2.configure(foreground="#000000")
        self.button2.configure(highlightbackground="#ffffff")
        self.button2.configure(highlightcolor="black")
        self.button2.configure(text='''Browse''')
        self.button2.configure(command=self.click_files)  
        
        self.Text2 = Text(self.Frame1)
        self.Text2.place(relx=0.43, rely=0.33, relheight=0.1, relwidth=0.45)
        self.Text2.configure(background="white")
        self.Text2.configure(font=font8)
        self.Text2.configure(foreground="black")
        self.Text2.configure(highlightbackground="#d9d9d9")
        self.Text2.configure(highlightcolor="black")
        self.Text2.configure(insertbackground="black")
        self.Text2.configure(selectbackground="#c4c4c4")
        self.Text2.configure(selectforeground="black")
        self.Text2.configure(width=314)
        self.Text2.configure(wrap=WORD)

        self.Label4 = Label(self.Frame1)
        self.Label4.place(relx=0.001, rely=0.60, height=40, width=280)
        self.Label4.configure(activebackground="#ffffff")
        self.Label4.configure(activeforeground="black")
        self.Label4.configure(background="#d9d9d9")
        self.Label4.configure(disabledforeground="#a3a3a3")
        self.Label4.configure(font=font8)
        self.Label4.configure(foreground="#000000")
        self.Label4.configure(highlightbackground="#ffffff")
        self.Label4.configure(highlightcolor="black")
        self.Label4.configure(text='''Enter Division Name use comma(,)''')
        
        self.Text3 = StringVar()
        self.Text3 = Entry(self.Frame1,name ="text1")
        #self.gather = StringVar()
        self.Text3.place(relx=0.34, rely=0.60, relheight=0.1,relwidth=0.50)
        self.Text3.configure(background="white")
        self.Text3.configure(font="TkFixedFont")
        self.Text3.configure(disabledforeground="#a3a3a3")
        self.Text3.configure(highlightbackground="#d9d9d9")
        self.Text3.configure(highlightcolor="black")
        self.Text3.configure(insertbackground="black")
        self.Text3.configure(selectbackground="#c4c4c4")
        self.Text3.configure(selectforeground="black")
        self.Text3.configure(width=314)
        #self.Text1.configure(wrap = WORD)
        #self.Text1.configure(textvariable = self.gather)
        #self.Text1.insert(INSERT,Divisionfilename +"\n")       
              
        self.button2 = Button(self.Frame1)
        self.button2.place(relx=0.78, rely=.75, height=30, width=80)
        self.button2.configure(activebackground="#ffffff")
        self.button2.configure(activeforeground="black")
        self.button2.configure(background="#d9d9d9")
        self.button2.configure(disabledforeground="#a3a3a3")
        self.button2.configure(font=font7)
        self.button2.configure(foreground="#000000")
        self.button2.configure(highlightbackground="#ffffff")
        self.button2.configure(highlightcolor="black")
        self.button2.configure(text='''Submit''')
        self.button2.configure(command=self.submit) 
        root.mainloop()
    
    def click_files(self):            
        self.pathfolder =  filedialog.askdirectory()            
            #print(pathfolder)
        for path, dirs, files in os.walk(os.path.abspath(self.pathfolder)):
            for filename in fnmatch.filter(files, "*.xlsx"):
                   # print (filename)
                   self.Text2.insert(INSERT,filename +"\n")
                   self.Hrcube_list.append(self.pathfolder +'/'+ filename)                    
               
    def check_Templatefile(self):
            self.Templatefile =  filedialog.askopenfilename()            
            self.Text1.insert(INSERT,self.Templatefile +"\n")  
            
    def submit(self):
        self.Division = self.Text3.get()
        print(self.Division)
        print("HI")
        self.pathfolder= "Z://Central COO//2021//CTB BOW//FC Template Creation//Output Files"    
        super().print_templates(self.pathfolder,self.Templatefile,self.Hrcube_list,self.Division)
       
def main():
    Existing_Template()


if __name__ == '__main__':   
    Existing_Template()


# In[ ]:





# In[ ]:




