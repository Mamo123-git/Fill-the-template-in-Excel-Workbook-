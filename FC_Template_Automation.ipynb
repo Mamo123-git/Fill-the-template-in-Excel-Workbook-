#!/usr/bin/env python
# coding: utf-8

# In[1]:


import pandas as pd
import numpy as np
from openpyxl import load_workbook
from openpyxl.utils import get_column_interval
import re
import ctypes  # An included library with Python install.
#import os

#from pandas.util import hash_pandas_object

class printT:
    
     def _init_(self):
        self.businessname=[]
        self.workbookname =" "
        self.divisions = []
    
     #### Read the business file and convert it to dictionary
     def readbusinessfilename(self,businessfilename):
         dict_division = pd.read_excel(businessfilename)
         dict_division= dict_division.set_index('Filename').T.to_dict('list')
         #print (dict_division)
         return dict_division         
         
   #### Read The template File
         
     def load_workbook_range(self,range_string, ws):
            col_start, col_end = re.findall("[A-Z]+", range_string)
        
            data_rows = []
            for row in ws[range_string]:
                data_rows.append([cell.value for cell in row])
        
            return pd.DataFrame(data_rows, columns=get_column_interval(col_start, col_end))
        
     def fill_sheet(self, wb,Internal,External_Others,External_TM):
       #### Filling the data in the Worksheets  
            print (wb)
                
            for i in range(0 , len(self.Tabs_list)):
                sheet_name =self.Tabs_list[i]
                print(self.Tabs_list[i])
                ws = wb[sheet_name]
                
                for colm in range(1,ws.max_column):
                    if ws.cell(row = 5,column=colm).value ==self.months:
                        c_idx=colm                                               
                        break               
                
                r_idx=7
                #print(c_idx)
        
                if i==0:
                    data = Internal.values
                   # print(Internal)
                elif i==1:
                    data = External_Others.values
                    #print(External_Others)
                elif i==2:
                    data=External_TM.values
                   # print(External_TM)
                max_row, max_col = data.shape
                for r in range(max_row):  
                    if self.months=="Dec'20" or self.months=="Jan'21":                        
                        c_idx=colm
                       # print(c_idx)
                    else:
                        c_idx=colm-4
                    for c in range(1, max_col):
                        if(data[r][c]!=''):
                            ws.cell(row=r_idx, column=c_idx).value=data[r][c]
                        c_idx=c_idx+1
                    r_idx=r_idx+1
    
            return wb 
                

     def print_templates(self,pathfolder,Hrcube_list,template_list,businessfilename,Templatefolder,outputfolder):
         
         #### Module to read business file and convert it to dictionary
         self.businessname= self.readbusinessfilename(businessfilename)       
         
         # Read the first city name from template
         for workbk in template_list:
            #print (workbk)
            self.wb = load_workbook(workbk)
            ws = self.wb['Internal RTB']
            City =self.load_workbook_range('B7:B85', ws)
            #print(City)          
            
            ######  split the name of workbook to match with dictionary key value
            split_name = workbk.split("/")
            self.workbookname = split_name[len(split_name)-1]
            print(self.workbookname)
            self.Output_filename = outputfolder +"/"+ self.workbookname 
            
            ##### Extracts the divisions data from the Dictionary
            self.divisions = self.businessname[self.workbookname]
            print(self.divisions)             
             
            list_RTB_CTB_ADC= ('RTB','ADC','CTB')
            
            for y in list_RTB_CTB_ADC:
                self.Tabs_list= []
                RTB_CTB_ADC = y
                self.Tabs_list.append("Internal "+ RTB_CTB_ADC)
                self.Tabs_list.append("External Others "+ RTB_CTB_ADC)
                self.Tabs_list.append("External T&M "+ RTB_CTB_ADC)
                
                print(self.Tabs_list)
                print(self.divisions[1])
                print(self.divisions[0])
                                
                for x in Hrcube_list:
                    print(x)
                    temp = x.split("/")[-1].split("_")
                    self.months= temp[0]
                    print(self.months)
                    
                    Data=pd.read_excel(x)
                    print(Data.columns)
                        #Data = hash_pandas_object(Data)
                        
                    df = Data.loc[(Data[self.divisions[1]]==self.divisions[0] ) & (Data['RTB/CTB/ADC']==RTB_CTB_ADC)& (Data['Worker Category']=='Employee'),['Updated City','FTE']]
                    Internal_Actuals= df.groupby(['Updated City']).sum()
                
                    #### Calculate the Corporate title from the data
                    if self.months == "Dec'20"  or self.months=="Jan'21":
                        Internal=pd.merge(City,Internal_Actuals,how='left',left_on='B',right_on='Updated City')
                        Internal=Internal.fillna('')                        
                    else:
                        corp_title = Data.loc[(Data[self.divisions[1]]==self.divisions[0]) & (Data['RTB/CTB/ADC']==RTB_CTB_ADC)& (Data['Worker Category']=='Employee'),['Updated City','Corporate Title','FTE']]
                        corp_title['Corporate Title'] = corp_title['Corporate Title'].apply(lambda x:x if x =='Managing Director' or x == 'Director' or x =='Vice President' else 'AVP & Below')
                        # print(corp_title)
                        #corp_title = corp_title.loc[(corp_title['Corporate Title']=='Managing Director') | (corp_title['Corporate Title']=='Director') | (corp_title['Corporate Title']=='Vice President')]
                        #corp_title= corp_title.groupby(['Updated City','Corporate Title']).sum()
                        corp_title=pd.pivot_table(corp_title, index="Updated City", columns="Corporate Title", values="FTE", aggfunc=np.sum)
                        #print(corp_title)                    
                        #corp_title=corp_title.pivot(index='Updated City', columns='Corporate Title')
                        if not corp_title.empty:
                            corp_title=corp_title.reindex(['Managing Director','Director', 'Vice President','AVP & Below'], axis=1)
                    
                        ##### merging to create data for internal sheet
                       # if corp_title != '':
                        Internal=pd.merge(City,corp_title,how='left',left_on='B',right_on='Updated City')
                        Internal=pd.merge(Internal,Internal_Actuals,how='left',left_on='B',right_on='Updated City')
                        Internal=Internal.fillna('')                 
                                                
                     
                    #### Calculate the External Others from the data
                    External_Others = Data.loc[(Data[self.divisions[1]]==self.divisions[0]) & (Data['RTB/CTB/ADC']==RTB_CTB_ADC)& (Data['Worker Category']=='External Others'),['Updated City','External Category','FTE']]
                    External_Others_Actuals= External_Others.loc[:,['Updated City','FTE']]
                    External_Others_Actuals= External_Others_Actuals.groupby(['Updated City']).sum()
                            
                    ### External Other Category
                    External_Others_category =pd.pivot_table(External_Others , index="Updated City", columns="External Category", values="FTE", aggfunc=np.sum)
                    if not External_Others_category.empty:
                        External_Others_category =External_Others_category.reindex(['Others IT Outsourced Services Resource','Others IT Vendor Resource FP','Others Non IT-Other Profess. Serv. Res','Others Non-IT Banking & Outsourced Serv. Res.','Others Occupancy & Facility Resource'], axis=1)
                    #print(External_Others_category)
                
                    ##### merging to create data for External Others sheet
                
                    External_Others=pd.merge(City,External_Others_category,how='left',left_on='B',right_on='Updated City')
                    #External_Others=pd.merge(External_Others,External_Others_Actuals,how='left',left_on='B',right_on='Updated City')
                    External_Others=External_Others.fillna('')
                    #print(External_Others)
                    
                    if self.months == "Dec'20"  or self.months=="Jan'21":
                        External_Others=pd.merge(City,External_Others_Actuals,how='left',left_on='B',right_on='Updated City')
                        #External_Others=pd.merge(External_Others,External_Others_Actuals,how='left',left_on='B',right_on='Updated City')
                        External_Others=External_Others.fillna('')
                        #print(External_Others)
                    else:
                        External_Others
                        
                    #### Calculate the External T&M from the data
                    
                    External_TM = Data.loc[(Data[self.divisions[1]]==self.divisions[0]) & (Data['RTB/CTB/ADC']==RTB_CTB_ADC)& (Data['Worker Category']=='External T&M'),['Updated City','External Category','FTE']]
                    External_TM_Actuals= External_TM.loc[:,['Updated City','FTE']]
                    External_TM_Actuals= External_TM_Actuals.groupby(['Updated City']).sum()
                    External_TM_Actuals
                    print(Data[self.divisions[1]])
                    print(self.divisions[0])
                    print(RTB_CTB_ADC)
                    ### External Other Category
                    External_TM_category =pd.pivot_table(External_TM , index="Updated City", columns="External Category", values="FTE", aggfunc=np.sum)
                    if External_TM_category.empty:
                        print ("External_TM_category is Empty")
                    else:
                        External_TM_category =External_TM_category.reindex(['T&M Non-IT contractor','T&M Non-IT Temp. Admin & Clerical Res','T&M IT contractor','T&M IT Vendor Resource T&M'], axis=1)
                                           
            
                    ##### merging to create data for External Others sheet
                
                    External_TM =pd.merge(City,External_TM_category,how='left',left_on='B',right_on='Updated City')
                    #External_TM =pd.merge(External_TM ,External_TM_Actuals,how='left',left_on='B',right_on='Updated City')
                    External_TM=External_TM.fillna('')
                    #External_TM
                    
                    if self.months == "Dec'20"  or self.months=="Jan'21":
                        External_TM =pd.merge(City,External_TM_Actuals,how='left',left_on='B',right_on='Updated City')
                        #External_TM =pd.merge(External_TM ,External_TM_Actuals,how='left',left_on='B',right_on='Updated City')
                        External_TM=External_TM.fillna('')
                    else:
                        External_TM
                    
                    #with pd.ExcelWriter('U:\\001- Workforce Model\\Actuals Testing\\Output\\Test.xlsx')as writer:
                    #    External_Others.to_excel(writer,sheet_name = self.Tabs_list[1])
                    #    External_TM_Actuals.to_excel(writer,sheet_name = self.Tabs_list[2])
                    #    Internal.to_excel(writer,sheet_name = self.Tabs_list[0])                        
                                        
                    self.wb = self.fill_sheet(self.wb,Internal,External_Others,External_TM)   
                                
                self.wb.save(self.Output_filename)
            print('Done!!')
            #ctypes.windll.user32.MessageBoxW(0, "FC Template Filled", "FC Template", 1)
                
