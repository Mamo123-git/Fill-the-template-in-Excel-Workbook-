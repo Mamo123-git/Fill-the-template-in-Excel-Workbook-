#!/usr/bin/env python
# coding: utf-8

# In[2]:
import Existing_Templates
import New_Template_GUI

try:
    from Tkinter import *
except ImportError:
    from tkinter import *
    

try:
    import ttk
    py3 = False
except ImportError:
    import tkinter.ttk as ttk
    py3 = True

class Main:    
       
    def __init__(self): 
        self.choice =''        
        
        root = Tk()
#        option = tkr.StringVar()
        '''This class configures and populates the toplevel window.
           top is the toplevel containing window.''' 
           
       # _bgcolor = '#d9d9d9'  # X11 color: 'gray85'
       # _fgcolor = '#000000'  # X11 color: 'black'
       # _compcolor = '#ffffff' # X11 color: 'white'
       # _ana1color = '#ffffff' # X11 color: 'white'
       # _ana2color = '#ffffff' # X11 color: 'white'
        font11 = "-family {Segoe UI} -size 17 -weight bold -slant "              "roman -underline 0 -overstrike 0"
      #font14 = "-family {Times New Roman} -size 16 -weight bold "                  "-slant roman -underline 0 -overstrike 0"
        font8 = "-family {Segoe UI} -size 10 -weight normal -slant "              "roman -underline 0 -overstrike 0"
        font7 = "-family {Segoe UI} -size 8 -weight normal -slant "              "roman -underline 0 -overstrike 0"
        
        root.geometry("600x341+404+223")
        #root.geometry("500x341+304+23")
        root.title("FC Template")
        root.configure(background="#ffffff")
        root.configure(highlightbackground="#ffffff")
        root.configure(highlightcolor="black")


        self.Labelframe1 = LabelFrame(root)
        self.Labelframe1.place(relx=0.01, rely=0.04, relheight=0.95, relwidth=0.97)
        self.Labelframe1.configure(relief= GROOVE)
        self.Labelframe1.configure(font= font11)
        self.Labelframe1.configure(foreground="black")
        self.Labelframe1.configure(text='''Main Menu''')
        self.Labelframe1.configure(background="#ffffff")
        self.Labelframe1.configure(highlightbackground="#ffffff")
        self.Labelframe1.configure(highlightcolor="black")
        self.Labelframe1.configure(width=760)

        self.Frame1 = Frame(self.Labelframe1)
       # self.Frame1.place(relx=0.03, rely=0.1, relheight=0.86, relwidth=0.47
       #         , y=-31, h=15)
        self.Frame1.place(relx=0.01, rely=0.01, relheight=0.95, relwidth=0.97)
        self.Frame1.configure(relief=GROOVE)
        self.Frame1.configure(borderwidth="2")
        self.Frame1.configure(relief=GROOVE)
        self.Frame1.configure(background="#d9d9d9")
        self.Frame1.configure(highlightbackground="#ffffff")
        self.Frame1.configure(highlightcolor="black")
        self.Frame1.configure(width=355)      
        
        self.Label4 = Label(self.Frame1)
        self.Label4.place(relx=0.001, rely=0.10, height=40, width=250)
        self.Label4.configure(activebackground="#ffffff")
        self.Label4.configure(activeforeground="black")
        self.Label4.configure(background="#d9d9d9")
        self.Label4.configure(disabledforeground="#a3a3a3")
        self.Label4.configure(font=font8)
        self.Label4.configure(foreground="#000000")
        self.Label4.configure(highlightbackground="#ffffff")
        self.Label4.configure(highlightcolor="black")
        self.Label4.configure(text='''Select the type of template to be filled''')
        
        #v = self.IntVar()
      #  self.radio = 1  # initializing the choice, i.e. Python

        self.Combobox1 = ttk.Combobox(self.Frame1,state="readonly")
        self.Combobox1.place(relx=0.45, rely=0.11, relheight=0.1, relwidth=0.45)
        self.Combobox1.configure(background="white")
        self.Combobox1.configure(font=font7)
        self.Combobox1.configure(values=["New Template","Already Filled Template"])
       # self.Combobox1.current(0)        
        self.Combobox1.configure(width=314)
        self.Combobox1.bind("<<ComboboxSelected>>", self.callbackFunc)
        
        
        self.button2 = Button(self.Frame1)
        self.button2.place(relx=0.78, rely=.75, height=30, width=80)
        self.button2.configure(activebackground="#ffffff")
        self.button2.configure(activeforeground="black")
        self.button2.configure(background="#d9d9d9")
        self.button2.configure(disabledforeground="#a3a3a3")
        self.button2.configure(font=font7)
        self.button2.configure(foreground="#000000")
        self.button2.configure(highlightbackground="#ffffff")
        self.button2.configure(highlightcolor="black")
        self.button2.configure(text='''Submit''')
        self.button2.configure(command=self.submit)
        root.mainloop()


    def callbackFunc(self,eventObject):
            self.choice = self.Combobox1.get() 
            
    def submit(self):       
        if self.choice=='New Template':
           # print(self.choice)
            New_Template_GUI.main()
        else:
            #print(self.choice)
            Existing_Templates.main()
            #   print("HI")
            #   pathfolder= "Z://Central COO//2021//CTB BOW//FC Template Creation//Output Files"    
              # printT.print_templates(pathfolder,Templatefile,Hrcube_list,Division)
    


if __name__ == '__main__': 
    data_check = Main()
    try:
        data_check        
    except Exception as e:
        data_check.error()
        print('Error: %s' % e, file=sys.stderr)
    sys.exit(rc)
    


# In[ ]:





# In[ ]:




